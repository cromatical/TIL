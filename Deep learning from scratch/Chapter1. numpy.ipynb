{
 "cells": [
  {
   "cell_type": "markdown",
   "id": "comprehensive-dynamics",
   "metadata": {},
   "source": [
    "* 딥러닝을 구현하다 보면 배열이나 행렬 계산이 많이 등장한다. 이때 numpy를 사용하면 굉장히 편해진다"
   ]
  },
  {
   "cell_type": "code",
   "execution_count": 5,
   "id": "clear-techno",
   "metadata": {},
   "outputs": [],
   "source": [
    "# numpy 불러오기\n",
    "import numpy as np"
   ]
  },
  {
   "cell_type": "code",
   "execution_count": 4,
   "id": "running-revolution",
   "metadata": {},
   "outputs": [
    {
     "name": "stdout",
     "output_type": "stream",
     "text": [
      "<class 'numpy.ndarray'> [1. 2. 3.]\n"
     ]
    }
   ],
   "source": [
    "# 넘파이 배열 생성\n",
    "x = np.array([1.0, 2.0, 3.0])\n",
    "print(type(x), (x))"
   ]
  },
  {
   "cell_type": "code",
   "execution_count": 7,
   "id": "committed-curve",
   "metadata": {},
   "outputs": [
    {
     "name": "stdout",
     "output_type": "stream",
     "text": [
      "[3. 6. 9.]\n",
      "[-1. -2. -3.]\n",
      "[ 2.  8. 18.]\n",
      "[0.5 0.5 0.5]\n"
     ]
    }
   ],
   "source": [
    "# 넘파이의 산술 연산\n",
    "# 넘파이를 이용하여 산순연산을 할 때는 x와y의 원소수가 같다면 각 원소에 대해 행해진다.\n",
    "# 이와같은 원소별 연산을 element-wise라 하며, 원소별 곱셈의 경우 element-wise product라고 한다.\n",
    "x = np.array([1.0, 2.0, 3.0])\n",
    "y = np.array([2.0, 4.0, 6.0])\n",
    "print(x + y)\n",
    "print(x - y)\n",
    "print(x * y)\n",
    "print(x / y)"
   ]
  },
  {
   "cell_type": "code",
   "execution_count": 8,
   "id": "proper-blanket",
   "metadata": {},
   "outputs": [
    {
     "name": "stdout",
     "output_type": "stream",
     "text": [
      "[0.5 1.  1.5]\n"
     ]
    }
   ],
   "source": [
    "# 넘파이 배열과 수치하나(스칼라값)의 조합으로 된 산술 연산을 broadcast라고 한다.\n",
    "# 스칼라값 하나가 배열 각각에 대해 한번씩 수행된다.\n",
    "x = np.array([1.0, 2.0, 3.0])\n",
    "print(x / 2.0)"
   ]
  },
  {
   "cell_type": "code",
   "execution_count": 12,
   "id": "banned-saver",
   "metadata": {},
   "outputs": [
    {
     "name": "stdout",
     "output_type": "stream",
     "text": [
      "[[1 2]\n",
      " [3 4]]\n",
      "(2, 2)\n",
      "int64\n"
     ]
    }
   ],
   "source": [
    "# 넘파이의 n차원 배열\n",
    "a = np.array([[1, 2], [3, 4]])\n",
    "print(a)\n",
    "print(a.shape) \n",
    "print(a.dtype) # dtype을 통해서 행렬에 담긴 원소의 자료형을 알수가 있다."
   ]
  },
  {
   "cell_type": "code",
   "execution_count": 13,
   "id": "flexible-bailey",
   "metadata": {},
   "outputs": [
    {
     "name": "stdout",
     "output_type": "stream",
     "text": [
      "[[1 2]\n",
      " [3 4]]\n",
      "[[10 20]\n",
      " [30 40]]\n"
     ]
    }
   ],
   "source": [
    "print(a)\n",
    "print(a * 10) # 마찬가지로 브로드캐스트기능이 적용된다."
   ]
  },
  {
   "cell_type": "code",
   "execution_count": 14,
   "id": "anticipated-offset",
   "metadata": {},
   "outputs": [
    {
     "name": "stdout",
     "output_type": "stream",
     "text": [
      "[[10 40]\n",
      " [30 80]]\n"
     ]
    }
   ],
   "source": [
    "# 배열이 달라도 다음과 같이 브로드캐스트가 가능하다.\n",
    "a = np.array([[1, 2], [3, 4]])\n",
    "b = np.array([10, 20])\n",
    "print(a * b)"
   ]
  },
  {
   "cell_type": "code",
   "execution_count": 16,
   "id": "complimentary-renaissance",
   "metadata": {},
   "outputs": [
    {
     "name": "stdout",
     "output_type": "stream",
     "text": [
      "[[1 2]\n",
      " [3 4]\n",
      " [5 6]]\n",
      "[1 2]\n",
      "1\n"
     ]
    }
   ],
   "source": [
    "# 원소접근\n",
    "x = np.array([[1, 2], [3, 4], [5, 6]])\n",
    "print(x)\n",
    "print(x[0])\n",
    "print(x[0][0])"
   ]
  },
  {
   "cell_type": "code",
   "execution_count": 18,
   "id": "italic-confirmation",
   "metadata": {},
   "outputs": [
    {
     "name": "stdout",
     "output_type": "stream",
     "text": [
      "[1 2 3 4 5 6]\n"
     ]
    }
   ],
   "source": [
    "x = x.flatten() # x를 1차원 배열로 변환(평탄화 작업)\n",
    "print(x)"
   ]
  },
  {
   "cell_type": "code",
   "execution_count": 19,
   "id": "spoken-burst",
   "metadata": {},
   "outputs": [
    {
     "data": {
      "text/plain": [
       "array([1, 3, 5])"
      ]
     },
     "execution_count": 19,
     "metadata": {},
     "output_type": "execute_result"
    }
   ],
   "source": [
    "x[np.array([0, 2, 4])] # 다음과 같이 해당 인덱스가 0, 2, 4에 해당되는 원소들을 쉽게 얻을수 있다."
   ]
  }
 ],
 "metadata": {
  "kernelspec": {
   "display_name": "Python 3",
   "language": "python",
   "name": "python3"
  },
  "language_info": {
   "codemirror_mode": {
    "name": "ipython",
    "version": 3
   },
   "file_extension": ".py",
   "mimetype": "text/x-python",
   "name": "python",
   "nbconvert_exporter": "python",
   "pygments_lexer": "ipython3",
   "version": "3.8.5-final"
  }
 },
 "nbformat": 4,
 "nbformat_minor": 5
}