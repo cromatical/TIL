{
 "cells": [
  {
   "cell_type": "code",
   "execution_count": 2,
   "id": "western-silver",
   "metadata": {},
   "outputs": [],
   "source": [
    "import numpy as np"
   ]
  },
  {
   "cell_type": "markdown",
   "id": "tropical-links",
   "metadata": {},
   "source": [
    "###  4.2.1 평균제곱오차"
   ]
  },
  {
   "cell_type": "code",
   "execution_count": 4,
   "id": "entertaining-specification",
   "metadata": {},
   "outputs": [
    {
     "data": {
      "text/plain": [
       "0.09750000000000003"
      ]
     },
     "execution_count": 4,
     "metadata": {},
     "output_type": "execute_result"
    }
   ],
   "source": [
    "def mean_squared_error(y, t):\n",
    "    return 0.5 * np.sum((y-t)**2)\n",
    "\n",
    "t = [0, 0, 1, 0, 0, 0, 0, 0, 0, 0]\n",
    "y = [0.1, 0.05, 0.6, 0.0, 0.05, 0.1, 0.0, 0.1, 0.0, 0.0]\n",
    "mean_squared_error(np.array(y), np.array(t))"
   ]
  },
  {
   "cell_type": "markdown",
   "id": "committed-steam",
   "metadata": {},
   "source": [
    "### 4.2.2 교차엔트로피"
   ]
  },
  {
   "cell_type": "code",
   "execution_count": 5,
   "id": "wicked-consciousness",
   "metadata": {},
   "outputs": [
    {
     "data": {
      "text/plain": [
       "0.510825457099338"
      ]
     },
     "execution_count": 5,
     "metadata": {},
     "output_type": "execute_result"
    }
   ],
   "source": [
    "def cross_entropy_error(y, t):\n",
    "    delta = 1e-7\n",
    "    return -np.sum(t * np.log(y + delta))\n",
    "\n",
    "t = [0, 0, 1, 0, 0, 0, 0, 0, 0, 0]\n",
    "y = [0.1, 0.05, 0.6, 0.0, 0.05, 0.1, 0.0, 0.1, 0.0, 0.0]\n",
    "cross_entropy_error(np.array(y), np.array(t))"
   ]
  },
  {
   "cell_type": "markdown",
   "id": "removable-thought",
   "metadata": {},
   "source": [
    "### 4.2.3 미치배치"
   ]
  },
  {
   "cell_type": "code",
   "execution_count": 11,
   "id": "lyric-kentucky",
   "metadata": {},
   "outputs": [],
   "source": [
    "import sys, os\n",
    "os.chdir(\"../Deep learning from scratch/dataset\")"
   ]
  },
  {
   "cell_type": "code",
   "execution_count": 15,
   "id": "acceptable-living",
   "metadata": {},
   "outputs": [
    {
     "name": "stdout",
     "output_type": "stream",
     "text": [
      "(60000, 784)\n",
      "(60000, 10)\n"
     ]
    }
   ],
   "source": [
    "import numpy as np\n",
    "from mnist import load_mnist\n",
    "\n",
    "(x_train, y_train), (x_test, y_test) = load_mnist(normalize=True, flatten=True, one_hot_label=True)\n",
    "print(x_train.shape)\n",
    "print(y_train.shape)"
   ]
  },
  {
   "cell_type": "code",
   "execution_count": 16,
   "id": "standing-legend",
   "metadata": {},
   "outputs": [],
   "source": [
    "train_size = x_train.shape[0]\n",
    "batch_size = 10\n",
    "\n",
    "# 전체 60000개의 데이터중에서 무작위 10개 데이터만 가지고 온다.\n",
    "batch_mask = np.random.choice(train_size, batch_size)\n",
    "x_batch = x_train[batch_mask]\n",
    "y_batch = y_train[batch_mask]"
   ]
  },
  {
   "cell_type": "code",
   "execution_count": 17,
   "id": "exempt-pound",
   "metadata": {},
   "outputs": [
    {
     "data": {
      "text/plain": [
       "array([32650, 31395, 43179, 30484,  1986,   414,  7188, 36973, 29314,\n",
       "       51217])"
      ]
     },
     "execution_count": 17,
     "metadata": {},
     "output_type": "execute_result"
    }
   ],
   "source": [
    "np.random.choice(60000, 10)"
   ]
  },
  {
   "cell_type": "markdown",
   "id": "nuclear-falls",
   "metadata": {},
   "source": [
    "### 4.2.4 교차 엔트로피 오차 구하기"
   ]
  },
  {
   "cell_type": "code",
   "execution_count": 19,
   "id": "married-michael",
   "metadata": {},
   "outputs": [],
   "source": [
    "# ndim : 배열의 차원수를 나타낸다.\n",
    "# size : 원소의 개수\n",
    "\n",
    "# y의 입력값으로 one_hot_encoding이 적용된 경우\n",
    "def cross_enrtopy_error(y, t):\n",
    "    if y.ndim == 1: # 데이터가 하나인 경우\n",
    "        t = t.reshape(1, t.size)\n",
    "        y = y.reshape(1, y.size)\n",
    "        \n",
    "    batch_size = y.shape[0]\n",
    "    return -np.sum(t * np.log(y + 1e-7)) / batch_size\n",
    "\n",
    "\n",
    "# one_hot_encoding이 적용 안된경우\n",
    "def cross_entropy_error2(y, t):\n",
    "    if y.ndim == 1:\n",
    "        t = t.reshape(1, t.size)\n",
    "        y = y.reshape(1, y.size)\n",
    "    \n",
    "    batch_size = y.shape[0]\n",
    "    return -np.sum(y[np.arange(batch_size), t] + 1e-7) / batch_size"
   ]
  },
  {
   "cell_type": "markdown",
   "id": "smart-archives",
   "metadata": {},
   "source": [
    "### 4.3.1 미분 - 중앙차분방식"
   ]
  },
  {
   "cell_type": "code",
   "execution_count": 35,
   "id": "conditional-minister",
   "metadata": {},
   "outputs": [],
   "source": [
    "# h를 가급적 작은 값을 넣기 위해 10e-50을 사용하게 되면 반올림 오차문제를 발생시키게 된다.\n",
    "# 따라서 1e-4가 가장 적합하고 좋은 결과를 얻는다고 한다.\n",
    "# 위의 문제점을 해결하면 다음과같이 중앙차분방식으로 정의\n",
    "\n",
    "def numerical_diff(f, x):\n",
    "    h = 1e-4\n",
    "    return (f(x + h) - f(x - h)) / (2 * h)"
   ]
  },
  {
   "cell_type": "markdown",
   "id": "bigger-kingdom",
   "metadata": {},
   "source": [
    "### 4.3.2 수치미분"
   ]
  },
  {
   "cell_type": "code",
   "execution_count": 3,
   "id": "ecological-tunnel",
   "metadata": {},
   "outputs": [
    {
     "data": {
      "image/png": "[encoded data removed]",
      "text/plain": [
       "<Figure size 432x288 with 1 Axes>"
      ]
     },
     "metadata": {
      "needs_background": "light"
     },
     "output_type": "display_data"
    }
   ],
   "source": [
    "def function_1(x):\n",
    "    return 0.01 * x ** 2 + 0.1 * x\n",
    "\n",
    "import numpy as np\n",
    "import matplotlib.pyplot as plt\n",
    "\n",
    "x = np.arange(0.0, 20.0, 0.1)\n",
    "y = function_1(x)\n",
    "plt.xlabel(\"x\")\n",
    "plt.ylabel(\"f(x)\")\n",
    "plt.plot(x, y)\n",
    "plt.show()"
   ]
  },
  {
   "cell_type": "code",
   "execution_count": 5,
   "id": "professional-cement",
   "metadata": {},
   "outputs": [
    {
     "name": "stdout",
     "output_type": "stream",
     "text": [
      "0.1999999999990898\n",
      "0.2999999999986347\n"
     ]
    }
   ],
   "source": [
    "# x에 해당값들이 들어갔을 떄의 미분값\n",
    "\n",
    "result = numerical_diff(function_1, 5)\n",
    "print(result)\n",
    "result = numerical_diff(function_1, 10)\n",
    "print(result)"
   ]
  },
  {
   "cell_type": "code",
   "execution_count": 36,
   "id": "duplicate-indicator",
   "metadata": {},
   "outputs": [
    {
     "data": {
      "text/plain": [
       "<matplotlib.legend.Legend at 0x7f4594ee40d0>"
      ]
     },
     "execution_count": 36,
     "metadata": {},
     "output_type": "execute_result"
    },
    {
     "data": {
      "image/png": "[encoded data removed]",
      "text/plain": [
       "<Figure size 432x288 with 1 Axes>"
      ]
     },
     "metadata": {
      "needs_background": "light"
     },
     "output_type": "display_data"
    }
   ],
   "source": [
    "def function_2(f, x):\n",
    "    d = numerical_diff(f, x)\n",
    "    y = f(x) - d * x\n",
    "    return lambda t: d*t + y\n",
    "\n",
    "tf = function_2(function_1, 5)\n",
    "y2 = tf(x)\n",
    "\n",
    "tf2 = function_2(function_1, 10)\n",
    "y3 = tf2(x)\n",
    "plt.plot(x, y, x, y2, x, y3)\n",
    "plt.xlabel(\"x\")\n",
    "plt.ylabel(\"f(x)\")\n",
    "plt.legend([\"function_1\", \"x = 5\", \"x = 10\"])"
   ]
  }
 ],
 "metadata": {
  "kernelspec": {
   "display_name": "Python 3",
   "language": "python",
   "name": "python3"
  },
  "language_info": {
   "codemirror_mode": {
    "name": "ipython",
    "version": 3
   },
   "file_extension": ".py",
   "mimetype": "text/x-python",
   "name": "python",
   "nbconvert_exporter": "python",
   "pygments_lexer": "ipython3",
   "version": "3.8.5"
  }
 },
 "nbformat": 4,
 "nbformat_minor": 5
}
