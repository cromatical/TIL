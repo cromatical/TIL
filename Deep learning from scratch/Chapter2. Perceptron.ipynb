{
 "cells": [
  {
   "cell_type": "markdown",
   "id": "clinical-parallel",
   "metadata": {},
   "source": [
    "### Perceptron 이란???\n",
    "* 퍼셉트론 알고리즘은 다수의 신호를 입력으로 받아 하나의 신호를 출력한다.\n",
    "    * 여기서 말하는 신호란 전류나 강물처럼 흐름이 있는 것을 상상하면 좋다.\n",
    "* x는 입력신호, y는 출력신호, w는 가중치를 말한다. 입력신호가 뉴런에 보내질 때는 각각의 고유한 가중치가 곱해져서 전해지고 뉴런에서 보내온 총합이 정해진 한계를 넘어설 때만 1을 출력한다. 이를 뉴런을 활성화 시켰다고 말한다. 여기서 활성화는 임계값이라고 부르며 세타기호를 사용한다.\n",
    "* 가중치는 각 신호가 결과에 주는 영향력을 조절하는 요소로 작용하며, 가중치가 클수록 해당 신호가 그만큼 더 중요함을 나타낸다.\n",
    "* 학습이란 위에서 말하는 가중치 w와 세타의 값이 적절하게 값을 정하는 과정을 말한다."
   ]
  },
  {
   "cell_type": "markdown",
   "id": "urban-asbestos",
   "metadata": {},
   "source": [
    "### Perceptron 구현하기"
   ]
  },
  {
   "cell_type": "code",
   "execution_count": 2,
   "id": "spanish-enough",
   "metadata": {},
   "outputs": [],
   "source": [
    "# AND 함수\n",
    "def AND_function(x1, x2):\n",
    "    w1, w2, theta = 0.5, 0.5, 0.7\n",
    "    tmp = x1*w1 + x2*w2\n",
    "    if tmp <= theta: # 해당 임계값보다 작다면 0\n",
    "        return 0\n",
    "    elif tmp > theta: # 해당 임계값보다 크다면 1\n",
    "            return 1"
   ]
  },
  {
   "cell_type": "code",
   "execution_count": 3,
   "id": "working-vertex",
   "metadata": {},
   "outputs": [
    {
     "name": "stdout",
     "output_type": "stream",
     "text": [
      "0\n",
      "0\n",
      "0\n",
      "1\n"
     ]
    }
   ],
   "source": [
    "print(AND_function(0, 0))\n",
    "print(AND_function(0, 1))\n",
    "print(AND_function(1, 0))\n",
    "print(AND_function(1, 1))"
   ]
  },
  {
   "cell_type": "markdown",
   "id": "hindu-forest",
   "metadata": {},
   "source": [
    "### 가중치와 편향 도입\n",
    "* 기존의 수식에서 theta를 넘기고 그 theta를 b로 바꾸자. 여기서 b는 편향이라고 부른다.\n",
    "* 해석하면 입력신호x에 가중치w를 곱한뒤 b를 더해서 그 기준이0을 넘으면 1을 출력하고 아니면 0을 출력한다. "
   ]
  },
  {
   "cell_type": "code",
   "execution_count": 6,
   "id": "funky-grill",
   "metadata": {},
   "outputs": [
    {
     "name": "stdout",
     "output_type": "stream",
     "text": [
      "[0.  0.5]\n",
      "-0.19999999999999996\n"
     ]
    }
   ],
   "source": [
    "import numpy as np\n",
    "\n",
    "x = np.array([0, 1])\n",
    "w = np.array([0.5, 0.5])\n",
    "b = -0.7\n",
    "print(w * x)\n",
    "print(np.sum(w * x) + b)"
   ]
  },
  {
   "cell_type": "code",
   "execution_count": 7,
   "id": "affecting-disney",
   "metadata": {},
   "outputs": [],
   "source": [
    "# 위의 AND_function을 넘파이를 이용하여 리팩토링\n",
    "\n",
    "def AND_function(x1, x2):\n",
    "    x = np.array([x1, x2])\n",
    "    w = np.array([0.5, 0.5]) # 가중치는 입력신호가 가중치에 주는 영향력(중요도)을 조절하는 매개변수\n",
    "    b = -0.7 # 편향은 뉴런이 얼마나 쉽게 활성화가 되느냐 조절해주는 매개변수이다.\n",
    "    tmp = np.sum(w * x) + b\n",
    "    if tmp > 0:\n",
    "        return 1\n",
    "    return 0"
   ]
  },
  {
   "cell_type": "code",
   "execution_count": 13,
   "id": "tight-belgium",
   "metadata": {},
   "outputs": [],
   "source": [
    "# NAND_function\n",
    "def NAND_function(x1, x2):\n",
    "    x = np.array([x1, x2])\n",
    "    w = np.array([-0.5, -0.5]) # AND와는 w와 b가 다르다.\n",
    "    b = 0.7\n",
    "    tmp = np.sum(w * x) + b\n",
    "    if tmp > 0:\n",
    "        return 1\n",
    "    return 0\n",
    "    \n",
    "def OR_function(x1, x2):\n",
    "    x = np.array([x1, x2])\n",
    "    w = np.array([0.5, 0.5]) # AND와는 w와 b가 다르다.\n",
    "    b = -0.2\n",
    "    tmp = np.sum(w * x) + b\n",
    "    if tmp > 0:\n",
    "        return 1\n",
    "    return 0"
   ]
  },
  {
   "cell_type": "markdown",
   "id": "remarkable-northwest",
   "metadata": {},
   "source": [
    "### Perceptron의 한계\n",
    "* 위에서 단순한 w * x + b를 통하여 AND, OR, NAND를 퍼셉트론을 가지고 구현할 수가 있었다.\n",
    "* 하지만 위와 같은 식을 이용하면 XOR은 구현할 수가 없다.\n",
    "* 직선 하나로 다음 XOR을 0과 1로 분리시키는 것이 불가능하다. 위와같은 문제를 해결하기위해서는 선형구조가 아닌 비선형구조가 되어야 한다.\n",
    "\n",
    "### Multi-layer perceptron\n",
    "* 다층퍼셉트론을 이용하여 기존 XOR을 해결할 수가 있다.\n",
    "* AND, OR, NAND 3개의 게이트를 이용하면 XOR을 구현 가능하다.\n",
    "\n",
    "|x1|x2|NAND|OR|AND|\n",
    "|---|---|---|---|---|\n",
    "|0|0|1|0|0|\n",
    "|0|1|1|1|1|\n",
    "|1|0|1|1|1|\n",
    "|1|1|0|1|0|\n"
   ]
  },
  {
   "cell_type": "code",
   "execution_count": 14,
   "id": "numerical-preference",
   "metadata": {},
   "outputs": [],
   "source": [
    "# XOR_fuction\n",
    "# 다음과 같이 기존 단층퍼셉트론이 해결하지 못한 문제를 다층 퍼셉트론을 이용하여 기존의 비선형구조의 표현이 가능하게 되었다.\n",
    "\n",
    "def XOR_function(x1, x2):\n",
    "    s1 = NAND_function(x1, x2)\n",
    "    s2 = OR_function(x1, x2)\n",
    "    y = AND_function(s1, s2)\n",
    "    if y > 0:\n",
    "        return 1\n",
    "    return 0"
   ]
  },
  {
   "cell_type": "code",
   "execution_count": 15,
   "id": "virgin-handle",
   "metadata": {},
   "outputs": [
    {
     "name": "stdout",
     "output_type": "stream",
     "text": [
      "0\n",
      "1\n",
      "1\n",
      "0\n"
     ]
    }
   ],
   "source": [
    "print(XOR_function(0, 0))\n",
    "print(XOR_function(0, 1))\n",
    "print(XOR_function(1, 0))\n",
    "print(XOR_function(1, 1))"
   ]
  },
  {
   "cell_type": "markdown",
   "id": "incorrect-rescue",
   "metadata": {},
   "source": [
    "### 정리\n",
    "1. 퍼셉트론은 입출력을 갖춘 알고리즘이다. 입력을 주면 정해진 규칙에 따른 값을 출력한다.\n",
    "2. 퍼셉트론에서는 가중치화 편햔을 매개변수로 설정한다.\n",
    "3. 퍼셉트론으로 AND, OR, NAND 등의 논리 회로를 표현할 수 있다.\n",
    "4. XOR게이트는 단층 퍼셉트론으로 표현할 수가 없다.\n",
    "5. 다층 퍼셉트론을 이용하면 XOR을 구현할 수가 있다.\n",
    "6. 단층 퍼셉트론은 직선인 선형의 영역만 표현할 수 있고, 다층퍼셉트론을 이용하면 비선형 영역도 표현이 가능해진다.\n",
    "7. 다층 퍼셉트론은 이론상 컴퓨터도 표현할 수 있다."
   ]
  }
 ],
 "metadata": {
  "kernelspec": {
   "display_name": "Python 3",
   "language": "python",
   "name": "python3"
  },
  "language_info": {
   "codemirror_mode": {
    "name": "ipython",
    "version": 3
   },
   "file_extension": ".py",
   "mimetype": "text/x-python",
   "name": "python",
   "nbconvert_exporter": "python",
   "pygments_lexer": "ipython3",
   "version": "3.8.5"
  }
 },
 "nbformat": 4,
 "nbformat_minor": 5
}