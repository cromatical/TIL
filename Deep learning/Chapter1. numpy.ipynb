{
 "cells": [
  {
   "cell_type": "markdown",
   "id": "selected-hierarchy",
   "metadata": {},
   "source": [
    "* 딥러닝을 구현하다 보면 배열이나 행렬 계산이 많이 등장한다. 이때 numpy를 사용하면 굉장히 편해진다."
   ]
  },
  {
   "cell_type": "code",
   "execution_count": null,
   "id": "strong-position",
   "metadata": {},
   "outputs": [],
   "source": [
    "# numpy array 생성"
   ]
  },
  {
   "cell_type": "code",
   "execution_count": 1,
   "id": "allied-minute",
   "metadata": {},
   "outputs": [],
   "source": [
    "import numpy as np"
   ]
  },
  {
   "cell_type": "code",
   "execution_count": null,
   "id": "supposed-feeling",
   "metadata": {},
   "outputs": [],
   "source": []
  },
  {
   "cell_type": "code",
   "execution_count": null,
   "id": "quiet-device",
   "metadata": {},
   "outputs": [],
   "source": []
  }
 ],
 "metadata": {
  "kernelspec": {
   "display_name": "Python 3",
   "language": "python",
   "name": "python3"
  },
  "language_info": {
   "codemirror_mode": {
    "name": "ipython",
    "version": 3
   },
   "file_extension": ".py",
   "mimetype": "text/x-python",
   "name": "python",
   "nbconvert_exporter": "python",
   "pygments_lexer": "ipython3",
   "version": "3.8.5"
  }
 },
 "nbformat": 4,
 "nbformat_minor": 5
}
